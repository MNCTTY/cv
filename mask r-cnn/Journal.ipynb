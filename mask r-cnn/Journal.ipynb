{
 "cells": [
  {
   "cell_type": "markdown",
   "metadata": {},
   "source": [
    "## Journal post-processing "
   ]
  },
  {
   "cell_type": "code",
   "execution_count": null,
   "metadata": {},
   "outputs": [
    {
     "name": "stderr",
     "output_type": "stream",
     "text": [
      "Using TensorFlow backend.\n"
     ]
    }
   ],
   "source": [
    "import os\n",
    "import sys\n",
    "import random\n",
    "import math\n",
    "import numpy as np\n",
    "import skimage.io\n",
    "import matplotlib\n",
    "import matplotlib.pyplot as plt\n",
    "import glob\n",
    "import cv2\n",
    "import coco\n",
    "import utils\n",
    "import model as modellib\n",
    "import visualize\n",
    "import pandas as pd\n",
    "from tesserocr import PyTessBaseAPI, PSM\n",
    "import re\n",
    "import datetime\n",
    "import csv\n",
    "import random\n",
    "\n",
    "%matplotlib inline \n",
    "\n",
    "# Root directory of the project\n",
    "ROOT_DIR = os.getcwd()\n",
    "\n",
    "# Directory to save logs and trained model\n",
    "MODEL_DIR = os.path.join(ROOT_DIR, \"logs\")\n",
    "\n",
    "# Local path to trained weights file\n",
    "COCO_MODEL_PATH = os.path.join(ROOT_DIR, \"mask_rcnn_coco.h5\")\n",
    "# Download COCO trained weights from Releases if needed\n",
    "if not os.path.exists(COCO_MODEL_PATH):\n",
    "    utils.download_trained_weights(COCO_MODEL_PATH)\n",
    "\n",
    "# Directory of images to run detection on\n",
    "#IMAGE_DIR = os.path.join(ROOT_DIR, \"images\")\n",
    "#IMAGE_DIR = os.path.abspath('C:\\\\Users\\\\14444043\\\\Desktop\\\\video\\\\scrins_crop2')\n",
    "#IMAGE_DIR = os.path.abspath('D:\\\\caltech pedestrian detection\\\\images100')"
   ]
  },
  {
   "cell_type": "code",
   "execution_count": 17,
   "metadata": {
    "collapsed": true
   },
   "outputs": [],
   "source": [
    "import csv\n",
    "import pandas as pd\n",
    "import numpy as np\n",
    "\n",
    "CALENDAR_DIR='D:\\\\_CV_PROJECT\\\\calendar3\\\\'"
   ]
  },
  {
   "cell_type": "code",
   "execution_count": 18,
   "metadata": {
    "collapsed": true
   },
   "outputs": [],
   "source": [
    "with open('D:\\\\_CV_PROJECT\\\\journal3.csv',\"rt\") as csvfile:\n",
    "    journal=csv.reader(csvfile)\n",
    "    journal=list(journal)"
   ]
  },
  {
   "cell_type": "code",
   "execution_count": 19,
   "metadata": {
    "collapsed": true
   },
   "outputs": [],
   "source": [
    "data = pd.DataFrame(journal[1:])\n",
    "data.columns=journal[0][1:]"
   ]
  },
  {
   "cell_type": "markdown",
   "metadata": {},
   "source": [
    "Сортировка в хронологическом порядке"
   ]
  },
  {
   "cell_type": "code",
   "execution_count": 20,
   "metadata": {
    "collapsed": true
   },
   "outputs": [],
   "source": [
    "data=data[data['date']!='date']\n",
    "data.sort_values(['image directory'],inplace=True)\n",
    "data['date order']=0\n",
    "k=0\n",
    "for i in range(1,len(data.index[1:])):\n",
    "    k = k if data['date'][data.index[1:][i]]==data['date'][data.index[1:][i-1]] else k+1\n",
    "    data=data.set_value(data.index[1:][i],'date order',k)\n"
   ]
  },
  {
   "cell_type": "code",
   "execution_count": 21,
   "metadata": {
    "collapsed": true
   },
   "outputs": [],
   "source": [
    "data['person order']=0\n",
    "data_new=pd.DataFrame(columns=data.columns)\n",
    "for date in list(np.unique(data['date order'])):\n",
    "    data_i=data[data['date order']==date].sort_values(['image directory'])\n",
    "    first_flg=0\n",
    "    for i in range(len(data_i.index)):\n",
    "        if int(data_i['number of persons'][data_i.index[i]])>0:\n",
    "            first_flg=1\n",
    "            data_i=data_i.set_value(data_i.index[i],'person order',1)\n",
    "        elif int(data_i['number of persons'][data_i.index[i]])==0 and first_flg==1:\n",
    "            data_new=pd.concat([data_new,data_i])\n",
    "            break\n",
    "        elif i==len(data_i.index)-1 and first_flg==0:\n",
    "            data_i=data_i.set_value(data_i.index[i],'person order',1)\n",
    "            data_new=pd.concat([data_new,data_i])\n",
    "        \n",
    "    "
   ]
  },
  {
   "cell_type": "code",
   "execution_count": 22,
   "metadata": {
    "collapsed": true
   },
   "outputs": [],
   "source": [
    "data=data_new"
   ]
  },
  {
   "cell_type": "code",
   "execution_count": 23,
   "metadata": {},
   "outputs": [
    {
     "data": {
      "text/html": [
       "<div>\n",
       "<style>\n",
       "    .dataframe thead tr:only-child th {\n",
       "        text-align: right;\n",
       "    }\n",
       "\n",
       "    .dataframe thead th {\n",
       "        text-align: left;\n",
       "    }\n",
       "\n",
       "    .dataframe tbody tr th {\n",
       "        vertical-align: top;\n",
       "    }\n",
       "</style>\n",
       "<table border=\"1\" class=\"dataframe\">\n",
       "  <thead>\n",
       "    <tr style=\"text-align: right;\">\n",
       "      <th></th>\n",
       "      <th>image directory</th>\n",
       "      <th>date</th>\n",
       "      <th>time</th>\n",
       "      <th>number of persons</th>\n",
       "      <th>rois</th>\n",
       "      <th>date order</th>\n",
       "      <th>person order</th>\n",
       "    </tr>\n",
       "  </thead>\n",
       "  <tbody>\n",
       "    <tr>\n",
       "      <th>1672</th>\n",
       "      <td>D:\\_CV_PROJECT\\scrins6\\img_16-12-02.jpg</td>\n",
       "      <td>2018-01-03</td>\n",
       "      <td>08:44:01</td>\n",
       "      <td>0</td>\n",
       "      <td></td>\n",
       "      <td>0</td>\n",
       "      <td>0</td>\n",
       "    </tr>\n",
       "    <tr>\n",
       "      <th>2309</th>\n",
       "      <td>D:\\_CV_PROJECT\\scrins6\\img_16-12-04.jpg</td>\n",
       "      <td>2018-01-03</td>\n",
       "      <td>08:45:37</td>\n",
       "      <td>0</td>\n",
       "      <td></td>\n",
       "      <td>0</td>\n",
       "      <td>0</td>\n",
       "    </tr>\n",
       "    <tr>\n",
       "      <th>1489</th>\n",
       "      <td>D:\\_CV_PROJECT\\scrins6\\img_16-12-06.jpg</td>\n",
       "      <td>2018-01-03</td>\n",
       "      <td>08:47:07</td>\n",
       "      <td>0</td>\n",
       "      <td></td>\n",
       "      <td>0</td>\n",
       "      <td>0</td>\n",
       "    </tr>\n",
       "    <tr>\n",
       "      <th>1341</th>\n",
       "      <td>D:\\_CV_PROJECT\\scrins6\\img_16-12-08.jpg</td>\n",
       "      <td>2018-01-03</td>\n",
       "      <td>08:49:45</td>\n",
       "      <td>0</td>\n",
       "      <td></td>\n",
       "      <td>0</td>\n",
       "      <td>0</td>\n",
       "    </tr>\n",
       "    <tr>\n",
       "      <th>596</th>\n",
       "      <td>D:\\_CV_PROJECT\\scrins6\\img_16-12-10.jpg</td>\n",
       "      <td>2018-01-03</td>\n",
       "      <td>08:51:37</td>\n",
       "      <td>0</td>\n",
       "      <td></td>\n",
       "      <td>0</td>\n",
       "      <td>0</td>\n",
       "    </tr>\n",
       "  </tbody>\n",
       "</table>\n",
       "</div>"
      ],
      "text/plain": [
       "                              image directory        date      time  \\\n",
       "1672  D:\\_CV_PROJECT\\scrins6\\img_16-12-02.jpg  2018-01-03  08:44:01   \n",
       "2309  D:\\_CV_PROJECT\\scrins6\\img_16-12-04.jpg  2018-01-03  08:45:37   \n",
       "1489  D:\\_CV_PROJECT\\scrins6\\img_16-12-06.jpg  2018-01-03  08:47:07   \n",
       "1341  D:\\_CV_PROJECT\\scrins6\\img_16-12-08.jpg  2018-01-03  08:49:45   \n",
       "596   D:\\_CV_PROJECT\\scrins6\\img_16-12-10.jpg  2018-01-03  08:51:37   \n",
       "\n",
       "     number of persons rois date order person order  \n",
       "1672                 0               0            0  \n",
       "2309                 0               0            0  \n",
       "1489                 0               0            0  \n",
       "1341                 0               0            0  \n",
       "596                  0               0            0  "
      ]
     },
     "execution_count": 23,
     "metadata": {},
     "output_type": "execute_result"
    }
   ],
   "source": [
    "data.head()"
   ]
  },
  {
   "cell_type": "markdown",
   "metadata": {},
   "source": [
    "## Calendar's creation"
   ]
  },
  {
   "cell_type": "markdown",
   "metadata": {},
   "source": [
    "Календарь - файл, формируемый на основе журнала. В отличие от журнала, в нем хранятся только записи о моменте открытия: дата, время, имя скриншота и количество обнаруженных людей. То есть каждому дню соответствует одна запись.\n",
    "\n",
    "Моментом открытия считается первый промежуток от появления первого человека в кадре до первого отсутствия людей в кадре.\n",
    "Для подсчета количества людей в этот временной интервал, берется максимум по количеству обнаруженных людей на скриншотах, соответствующих ему.\n",
    "\n",
    "Так сделано, потому что экспериментально это показало наилучший результат для устранения следующих проблемы появления людей последовательно друг за другом, появления людей кусками, необнаружения алгоритмом человека в определенной позе или под определенным углом."
   ]
  },
  {
   "cell_type": "code",
   "execution_count": 9,
   "metadata": {
    "collapsed": true
   },
   "outputs": [],
   "source": [
    "calendar=data[data['person order']==1].groupby(['date order']).\\\n",
    "    apply(lambda x: x.sort_values('number of persons', ascending=False)[['date','time','image directory','number of persons']][:1])\n",
    "    #[0, 0, 1, 2, 3, 0] от нуля до нуля, из них - максимум - [:1], 1й, тк отсортировали"
   ]
  },
  {
   "cell_type": "code",
   "execution_count": 10,
   "metadata": {
    "collapsed": true
   },
   "outputs": [],
   "source": [
    "calendar['image directory']=[i[:3]+i[3:] for i in calendar['image directory']]"
   ]
  },
  {
   "cell_type": "code",
   "execution_count": 11,
   "metadata": {
    "collapsed": true
   },
   "outputs": [],
   "source": [
    "calendar.to_excel(CALENDAR_DIR+'calendar.xlsx')"
   ]
  },
  {
   "cell_type": "markdown",
   "metadata": {},
   "source": [
    "В папку с календарем выгружаются все скриншоты, которые стали решающими для каждого дня, с отрисованными на них масками, чтобы было легче анализировать результаты."
   ]
  },
  {
   "cell_type": "code",
   "execution_count": null,
   "metadata": {},
   "outputs": [
    {
     "name": "stdout",
     "output_type": "stream",
     "text": [
      "\n",
      "Configurations:\n",
      "BACKBONE_SHAPES                [[256 256]\n",
      " [128 128]\n",
      " [ 64  64]\n",
      " [ 32  32]\n",
      " [ 16  16]]\n",
      "BACKBONE_STRIDES               [4, 8, 16, 32, 64]\n",
      "BATCH_SIZE                     1\n",
      "BBOX_STD_DEV                   [ 0.1  0.1  0.2  0.2]\n",
      "DETECTION_MAX_INSTANCES        100\n",
      "DETECTION_MIN_CONFIDENCE       0.7\n",
      "DETECTION_NMS_THRESHOLD        0.3\n",
      "GPU_COUNT                      1\n",
      "IMAGES_PER_GPU                 1\n",
      "IMAGE_MAX_DIM                  1024\n",
      "IMAGE_MIN_DIM                  800\n",
      "IMAGE_PADDING                  True\n",
      "IMAGE_SHAPE                    [1024 1024    3]\n",
      "LEARNING_MOMENTUM              0.9\n",
      "LEARNING_RATE                  0.001\n",
      "MASK_POOL_SIZE                 14\n",
      "MASK_SHAPE                     [28, 28]\n",
      "MAX_GT_INSTANCES               100\n",
      "MEAN_PIXEL                     [ 123.7  116.8  103.9]\n",
      "MINI_MASK_SHAPE                (56, 56)\n",
      "NAME                           coco\n",
      "NUM_CLASSES                    81\n",
      "POOL_SIZE                      7\n",
      "POST_NMS_ROIS_INFERENCE        1000\n",
      "POST_NMS_ROIS_TRAINING         2000\n",
      "ROI_POSITIVE_RATIO             0.33\n",
      "RPN_ANCHOR_RATIOS              [0.5, 1, 2]\n",
      "RPN_ANCHOR_SCALES              (32, 64, 128, 256, 512)\n",
      "RPN_ANCHOR_STRIDE              1\n",
      "RPN_BBOX_STD_DEV               [ 0.1  0.1  0.2  0.2]\n",
      "RPN_NMS_THRESHOLD              0.7\n",
      "RPN_TRAIN_ANCHORS_PER_IMAGE    256\n",
      "STEPS_PER_EPOCH                1000\n",
      "TRAIN_ROIS_PER_IMAGE           200\n",
      "USE_MINI_MASK                  True\n",
      "USE_RPN_ROIS                   True\n",
      "VALIDATION_STEPS               50\n",
      "WEIGHT_DECAY                   0.0001\n",
      "\n",
      "\n",
      "WARNING:tensorflow:From C:\\ProgramData\\Anaconda3\\lib\\site-packages\\keras\\backend\\tensorflow_backend.py:1213: calling reduce_max (from tensorflow.python.ops.math_ops) with keep_dims is deprecated and will be removed in a future version.\n",
      "Instructions for updating:\n",
      "keep_dims is deprecated, use keepdims instead\n",
      "WARNING:tensorflow:From C:\\ProgramData\\Anaconda3\\lib\\site-packages\\keras\\backend\\tensorflow_backend.py:1247: calling reduce_sum (from tensorflow.python.ops.math_ops) with keep_dims is deprecated and will be removed in a future version.\n",
      "Instructions for updating:\n",
      "keep_dims is deprecated, use keepdims instead\n"
     ]
    }
   ],
   "source": [
    "class InferenceConfig(coco.CocoConfig):\n",
    "    # Set batch size to 1 since we'll be running inference on\n",
    "    # one image at a time. Batch size = GPU_COUNT * IMAGES_PER_GPU\n",
    "    GPU_COUNT = 1\n",
    "    IMAGES_PER_GPU = 1\n",
    "\n",
    "config = InferenceConfig()\n",
    "config.display()\n",
    "# Create model object in inference mode.\n",
    "model = modellib.MaskRCNN(mode=\"inference\", model_dir=MODEL_DIR, config=config)\n",
    "\n",
    "# Load weights trained on MS-COCO\n",
    "model.load_weights(COCO_MODEL_PATH, by_name=True)\n",
    "# COCO Class names\n",
    "# Index of the class in the list is its ID. For example, to get ID of\n",
    "# the teddy bear class, use: class_names.index('teddy bear')\n",
    "class_names = ['BG', 'person', 'bicycle', 'car', 'motorcycle', 'airplane',\n",
    "               'bus', 'train', 'truck', 'boat', 'traffic light',\n",
    "               'fire hydrant', 'stop sign', 'parking meter', 'bench', 'bird',\n",
    "               'cat', 'dog', 'horse', 'sheep', 'cow', 'elephant', 'bear',\n",
    "               'zebra', 'giraffe', 'backpack', 'umbrella', 'handbag', 'tie',\n",
    "               'suitcase', 'frisbee', 'skis', 'snowboard', 'sports ball',\n",
    "               'kite', 'baseball bat', 'baseball glove', 'skateboard',\n",
    "               'surfboard', 'tennis racket', 'bottle', 'wine glass', 'cup',\n",
    "               'fork', 'knife', 'spoon', 'bowl', 'banana', 'apple',\n",
    "               'sandwich', 'orange', 'broccoli', 'carrot', 'hot dog', 'pizza',\n",
    "               'donut', 'cake', 'chair', 'couch', 'potted plant', 'bed',\n",
    "               'dining table', 'toilet', 'tv', 'laptop', 'mouse', 'remote',\n",
    "               'keyboard', 'cell phone', 'microwave', 'oven', 'toaster',\n",
    "               'sink', 'refrigerator', 'book', 'clock', 'vase', 'scissors',\n",
    "               'teddy bear', 'hair drier', 'toothbrush']"
   ]
  },
  {
   "cell_type": "code",
   "execution_count": null,
   "metadata": {
    "collapsed": true
   },
   "outputs": [],
   "source": [
    "for i in range(len(calendar)):\n",
    "    \n",
    "    image = skimage.io.imread(calendar.iloc[i]['image directory'])\n",
    "\n",
    "    r = model.detect([image], verbose=1)[0]\n",
    "    persons=r['class_ids']==1\n",
    "\n",
    "    img = visualize.display_instances(image, r['rois'][persons], r['masks'][:,:,persons], \n",
    "                                      r['class_ids'][persons], class_names, r['scores'][persons])\n",
    "    cv2.imwrite(CALENDAR_DIR+calendar.iloc[i]['date']+'.jpg',img)\n",
    "cv2.imshow('',img)\n",
    "k=cv2.waitKey(0)\n",
    "cv2.destroyAllWindows()"
   ]
  }
 ],
 "metadata": {
  "kernelspec": {
   "display_name": "Python 3",
   "language": "python",
   "name": "python3"
  },
  "language_info": {
   "codemirror_mode": {
    "name": "ipython",
    "version": 3
   },
   "file_extension": ".py",
   "mimetype": "text/x-python",
   "name": "python",
   "nbconvert_exporter": "python",
   "pygments_lexer": "ipython3",
   "version": "3.6.7"
  }
 },
 "nbformat": 4,
 "nbformat_minor": 2
}
