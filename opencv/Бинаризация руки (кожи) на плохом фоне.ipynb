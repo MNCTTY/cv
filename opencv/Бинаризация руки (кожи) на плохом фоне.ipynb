{
 "cells": [
  {
   "cell_type": "code",
   "execution_count": 3,
   "metadata": {},
   "outputs": [],
   "source": [
    "import numpy as np\n",
    "import cv2\n",
    "from matplotlib import pyplot as plt\n",
    "import os.path\n",
    "import glob"
   ]
  },
  {
   "cell_type": "code",
   "execution_count": 4,
   "metadata": {},
   "outputs": [],
   "source": [
    "import math"
   ]
  },
  {
   "cell_type": "code",
   "execution_count": 5,
   "metadata": {},
   "outputs": [],
   "source": [
    "from skimage.measure import compare_ssim as ssim"
   ]
  },
  {
   "cell_type": "markdown",
   "metadata": {},
   "source": [
    "### pathes and objects"
   ]
  },
  {
   "cell_type": "code",
   "execution_count": 6,
   "metadata": {},
   "outputs": [],
   "source": [
    "path = 'C:/Users/karin.sadovs/Desktop/HAND/objects'\n",
    "included_extensions = ['jpg','jpeg', 'bmp', 'png', 'gif']"
   ]
  },
  {
   "cell_type": "code",
   "execution_count": 7,
   "metadata": {},
   "outputs": [],
   "source": [
    "#objects = glob.glob(path'*.jpg')\n",
    "objects = [fn for fn in os.listdir(path)\n",
    "              if any(fn.endswith(ext) for ext in included_extensions)]"
   ]
  },
  {
   "cell_type": "code",
   "execution_count": 8,
   "metadata": {},
   "outputs": [],
   "source": [
    "full_pathes = []\n",
    "for objct in objects:\n",
    "    full_pathes.append(path +'/'+ objct)"
   ]
  },
  {
   "cell_type": "markdown",
   "metadata": {},
   "source": [
    "### functions"
   ]
  },
  {
   "cell_type": "code",
   "execution_count": 9,
   "metadata": {},
   "outputs": [],
   "source": [
    "def convert(inp, mode):\n",
    "    if (mode==1):\n",
    "        constant = cv2.COLOR_BGR2HSV\n",
    "    elif (mode==2):\n",
    "        constant = cv2.COLOR_BGR2LAB\n",
    "    elif (mode==3):\n",
    "        constant = cv2.COLOR_BGR2YCrCb\n",
    "    else:\n",
    "        constant = 'lalalal'\n",
    "    \n",
    "    if (constant=='lalalal'):\n",
    "        output = inp\n",
    "    else:\n",
    "        output = cv2.cvtColor(inp, constant)\n",
    "    \n",
    "    return output"
   ]
  },
  {
   "cell_type": "code",
   "execution_count": 10,
   "metadata": {},
   "outputs": [],
   "source": [
    "def draw_img(img):\n",
    "    plt.imshow(img)\n",
    "    plt.xticks([]), plt.yticks([])  # to hide tick values on X and Y axis\n",
    "    plt.show()"
   ]
  },
  {
   "cell_type": "code",
   "execution_count": 11,
   "metadata": {},
   "outputs": [],
   "source": [
    "def get_cntr_eps(img, rad):\n",
    "    center_x = int(img.shape[0]/2)\n",
    "    center_y = int(img.shape[1]/2)\n",
    "    \n",
    "    center_small_area = []\n",
    "    for i in range(0, rad):\n",
    "        temp = img[center_x][center_y]\n",
    "        center_small_area.append(temp)\n",
    "\n",
    "        temp = img[center_x+i][center_y]\n",
    "        center_small_area.append(temp)\n",
    "\n",
    "        temp = img[center_x+i][center_y+i]\n",
    "        center_small_area.append(temp)\n",
    "\n",
    "        temp = img[center_x][center_y+i]\n",
    "        center_small_area.append(temp)\n",
    "\n",
    "        temp = img[center_x-i][center_y+i]\n",
    "        center_small_area.append(temp)\n",
    "        \n",
    "        temp = img[center_x-i][center_y]\n",
    "        center_small_area.append(temp)\n",
    "\n",
    "        temp = img[center_x-i][center_y-i]\n",
    "        center_small_area.append(temp)\n",
    "\n",
    "        temp = img[center_x][center_y-i]\n",
    "        center_small_area.append(temp)\n",
    "\n",
    "        temp = img[center_x+i][center_y-i]\n",
    "        center_small_area.append(temp)\n",
    "\n",
    "    center_small_area_array = np.asarray(center_small_area)\n",
    "    \n",
    "    h_max = center_small_area_array[:, 0].max()\n",
    "    h_min = center_small_area_array[:, 0].min()\n",
    "    \n",
    "    s_max = center_small_area_array[:, 1].max()\n",
    "    s_min = center_small_area_array[:, 1].min()\n",
    "    \n",
    "    v_max = center_small_area_array[:, 2].max()\n",
    "    v_min = center_small_area_array[:, 2].min()\n",
    "    \n",
    "        \n",
    "    lower = np.array([h_min, s_min, v_min], dtype = \"uint8\")\n",
    "    upper = np.array([h_max, s_max, v_max], dtype = \"uint8\")\n",
    "    \n",
    "    return lower, upper\n"
   ]
  },
  {
   "cell_type": "code",
   "execution_count": 12,
   "metadata": {},
   "outputs": [],
   "source": [
    "def Sobel_grad(img, ksize):\n",
    "    # uses the above two partial derivatives\n",
    "    sobelx = cv2.Sobel(img, cv2.CV_16S, 1, 0, ksize)\n",
    "    sobely = cv2.Sobel(img, cv2.CV_16S, 0, 1, ksize)\n",
    "    \n",
    "    abs_gradientx = cv2.convertScaleAbs(sobelx)\n",
    "    abs_gradienty = cv2.convertScaleAbs(sobely)\n",
    "    \n",
    "    # combine the two in equal proportions\n",
    "    total_gradient = cv2.addWeighted(abs_gradientx, 0.5, abs_gradienty, 0.5, 0)\n",
    "    \n",
    "    #np.unique(Sobel_edges)\n",
    "    #array([  0, 128, 255], dtype=uint8)\n",
    "    #so I add a small thresholding\n",
    "    \n",
    "    ret,thresh1 = cv2.threshold(total_gradient ,100,255,cv2.THRESH_BINARY)\n",
    "    \n",
    "    \n",
    "#    return total_gradient\n",
    "    return thresh1"
   ]
  },
  {
   "cell_type": "code",
   "execution_count": 13,
   "metadata": {},
   "outputs": [],
   "source": [
    "def calc_difference(img1, img2):\n",
    "    (score, diff) = ssim(img1, img2, full=True)\n",
    "    diff = (diff * 255).astype(\"uint8\")\n",
    "    if (score!=1.0):\n",
    "        draw_img(diff)\n",
    "    else:\n",
    "        print('Images are similar\\n')\n",
    "        \n",
    "    return diff, score"
   ]
  },
  {
   "cell_type": "code",
   "execution_count": null,
   "metadata": {},
   "outputs": [],
   "source": []
  },
  {
   "cell_type": "code",
   "execution_count": null,
   "metadata": {},
   "outputs": [],
   "source": []
  },
  {
   "cell_type": "markdown",
   "metadata": {},
   "source": [
    "Почему-то функция для отрисовки контуров не отрисовывает контуры"
   ]
  },
  {
   "cell_type": "markdown",
   "metadata": {},
   "source": [
    "## Main Alg"
   ]
  },
  {
   "cell_type": "code",
   "execution_count": null,
   "metadata": {
    "scrolled": true
   },
   "outputs": [],
   "source": [
    "#this algo needs 3 fixes in drawings\n",
    "#also it needs attention to background filtration that are commented\n",
    "#also try to union the best countours and binaried area and fined their contours\n",
    "#also try to find all types of contours (including Canny and Sobel) before binarization and unite them somehow after\n",
    "#also play with the area while you're finding lower and upper levels of skin tone\n",
    "\n",
    "#and, finally, look how countours will be like in different colorspaces\n",
    "for obj in full_pathes:\n",
    "    print(obj)\n",
    "    frame = cv2.imread(obj,cv2.IMREAD_COLOR)\n",
    "    \n",
    "    print(frame.shape)\n",
    "    converted = convert(frame,1) #see the function for more modes, now it's toHSV\n",
    "    draw_img(converted)\n",
    "    \n",
    "    lower, upper = get_cntr_eps(converted, 7)\n",
    "    \n",
    "    skinMask = cv2.inRange(converted, lower, upper) \n",
    "    print('Binnarized: /n')\n",
    "    draw_img(skinMask)\n",
    "    print(' ')\n",
    "    \n",
    "    #kernel = cv2.getStructuringElement(cv2.MORPH_ELLIPSE, (3, 3))\n",
    "    #skinMask = cv2.erode(skinMask, kernel, iterations = 1) #пытаемся удалить ложно положительную кожу\n",
    "    #skinMask = cv2.dilate(skinMask, kernel, iterations = 1)\n",
    "    #skinMask = cv2.GaussianBlur(skinMask, (3, 3), 0) #пытаемся избавиться от шумов\n",
    "    \n",
    "    #draw_img(skinMask)\n",
    "    \n",
    "    #cv2.imwrite(obj+'skin.jpg',skinMask)\n",
    "   \n",
    "\n",
    "    Canny_edges_orig = cv2.Canny(skinMask,100,200) #original\n",
    "    print('Canny: /n')\n",
    "    draw_img(Canny_edges_orig)\n",
    "    print(' ')\n",
    "    \n",
    "    \n",
    "    \n",
    "    Sobel_edges = Sobel_grad(skinMask, 3)\n",
    "    print('Sobel: /n')\n",
    "    draw_img(Sobel_edges)\n",
    "    print(' ')\n",
    "    \n",
    "   \n",
    "\n",
    "    image, contours, hierarchy = cv2.findContours(skinMask,cv2.RETR_TREE,cv2.CHAIN_APPROX_SIMPLE)\n",
    "    #image = cv2.drawContours(image, contours, -1, (0,255,0), 3)\n",
    "    print('Contours: /n')\n",
    "    draw_img(image)\n",
    "#(1)########### придумать, как отрисовать нормально сразу оболочки всех контуры\n",
    "    print('NOTHING HERE NOW FOR CONTOURS')\n",
    "    print(' ')\n",
    "    \n",
    "    \n",
    "    \n",
    "    \n",
    "    full_hull = []\n",
    "    for i in (0, len(contours)-1):\n",
    "        hull = cv2.convexHull(contours[i])\n",
    "        full_hull.append(hull)\n",
    "    print('Convex Hull: /n')\n",
    "#(2)########### придумать, как отрисовать нормально сразу оболочки всех контуров и отрисовать их\n",
    "    print('NOTHING HERE NOW FOR CONVEX HULL')\n",
    "    print(' ')\n",
    "    \n",
    "    \n",
    "    \n",
    "    approximated_contours = []\n",
    "    for i in (0, len(contours)-1):\n",
    "        epsilon = 0.1*cv2.arcLength(contours[i],True)\n",
    "        approx = cv2.approxPolyDP(contours[i],epsilon,True)\n",
    "        approximated_contours.append(approx)\n",
    "    print('Approximated Countours: /n')\n",
    "    image = cv2.drawContours(image, approximated_contours, -1, (0,255,0), 10)\n",
    "    draw_img(image)\n",
    "#(3)########### придумать, как отрисовать нормально сразу контуры\n",
    "    print('NOTHING HERE NOW FOR APPROXIMATED CONTOURS')\n",
    "    print(' ')\n",
    "    \n",
    "    \n",
    "    \n",
    "    full_approx_hull = []\n",
    "    for i in (0, len(approximated_contours)-1):\n",
    "        hull = cv2.convexHull(approximated_contours[i])\n",
    "        full_approx_hull.append(hull)\n",
    "    print('Approimated Convex Hull: /n')\n",
    "#(2)########### придумать, как отрисовать нормально сразу оболочки всех контуров и отрисовать их\n",
    "    print('NOTHING HERE NOW FOR APPROXIMATED CONVEX HULL')\n",
    "    print(' ')\n",
    "    \n",
    "    \n",
    "    \n",
    "    print(' ')\n",
    "    print('----------------------------------------------------------------------------------------------------------')\n",
    "    print('----------------------------------------------------------------------------------------------------------')\n",
    "    print('----------------------------------------------------------------------------------------------------------')\n",
    "    print(' ')"
   ]
  },
  {
   "cell_type": "code",
   "execution_count": null,
   "metadata": {},
   "outputs": [],
   "source": []
  },
  {
   "cell_type": "markdown",
   "metadata": {},
   "source": [
    "## Trying make mask by edges"
   ]
  },
  {
   "cell_type": "code",
   "execution_count": 39,
   "metadata": {},
   "outputs": [],
   "source": [
    "def edges_f(img):\n",
    "    \n",
    "#line[i]==0 ----> line[i]==255    \n",
    "   \n",
    "    edges=[]\n",
    "    for line in img:\n",
    "        first=len(line)\n",
    "        last=0\n",
    "        for i in range(len(line)): #found real first black pixel in a line\n",
    "            if line[i]==255:\n",
    "                first = i\n",
    "                break\n",
    "        for i in range(len(line)): #found real last black pixel in a line\n",
    "            if line[len(line)-i-1]==255:\n",
    "                last = len(line)-i-1\n",
    "                break\n",
    "\n",
    "        edges.append([first,last])\n",
    "    \n",
    "    for i in range(len(edges)):\n",
    "        if edges[i][0]<edges[i][1]: #i is number of a line, 0 and 1 equals first and last, and in this line of code we check if f<l\n",
    "            for j in range(edges[i][0],edges[i][1]): #and now btw first and last in line paint it black!\n",
    "                img[i][j]=255\n",
    "\n",
    "    print('fisrt')\n",
    "    draw_img(img)\n",
    "    \n",
    "    #############################################################################\n",
    "    \n",
    "    max_seqs=[]\n",
    "    for line in img.T: #transponered image\n",
    "        seq=[]\n",
    "        first=0 #FIRST is from what we begin our calculations of sequences of solid blocks of pixels in line, but line here is a column\n",
    "\n",
    "        while first < len(line):\n",
    "            if line[first]==0: #if pixel of it is black\n",
    "                j=first\n",
    "                while j<len(line) and line[j]==0: #if j still in line and this pixel is black we increase j\n",
    "                    j+=1\n",
    "                seq.append([first,j])\n",
    "                first=j+1\n",
    "            else:\n",
    "                first+=1   #so far, we found all solid sequences in line (in real column)\n",
    "        if len(seq)>0:        #we are in search of max sequence of black pixels in line  in an array of all sequences in line\n",
    "            max_seq=seq[np.argmax(np.array([k[1]-k[0] for k in seq]))]\n",
    "        else:\n",
    "            max_seq=[0,0]\n",
    "        max_seqs.append(max_seq)    \n",
    "\n",
    "    ###################################################################################33\n",
    "    \n",
    "    img_2=np.zeros((img.shape[1],img.shape[0])) #create an img2 as a transponered copybox to fill it as max_seqs\n",
    "    for i in range(len(max_seqs)):\n",
    "        if max_seqs[i][1]-max_seqs[i][0]>20: \n",
    "            for j in range(max_seqs[i][0],max_seqs[i][1]): #i is a num of line (col of org img)\n",
    "                img_2[i][j]=255 #all pixels in range of maximal solid sequences in current line (col of org img) we paint white\n",
    "    img_2=img_2.T #transponere the img2 again (to see it as original img's orientation)\n",
    "\n",
    "    \n",
    "    print('second')\n",
    "    draw_img(img_2)\n",
    "    \n",
    "    \n",
    "    #####################################################################################\n",
    "    \n",
    "    #here we do the same, but in original orientation, and with inverse colours\n",
    "    #so, if at first time we walked vertical, now we walk horizontal\n",
    "    max_seqs=[]\n",
    "    for line in img_2:\n",
    "        seq=[]\n",
    "        first=0\n",
    "\n",
    "        while first < len(line):\n",
    "            if line[first]==255:\n",
    "                j=first\n",
    "                while j<len(line) and line[j]==255:\n",
    "                    j+=1\n",
    "                seq.append([first,j])\n",
    "                first=j+1\n",
    "            else:\n",
    "                first+=1\n",
    "\n",
    "        if len(seq)>0:\n",
    "            max_seq=seq[np.argmax(np.array([k[1]-k[0] for k in seq]))]\n",
    "        else:\n",
    "            max_seq=[0,0]\n",
    "        max_seqs.append(max_seq)    \n",
    "        \n",
    "       #####################################################################################\n",
    "\n",
    "\n",
    "    img_3=np.zeros(img_2.shape)\n",
    "    for i in range(len(max_seqs)):\n",
    "        if max_seqs[i][1]-max_seqs[i][0]>20:\n",
    "            for j in range(max_seqs[i][0],max_seqs[i][1]):\n",
    "                img_3[i][j]=255\n",
    "\n",
    "    print('third')\n",
    "    draw_img(img_3)\n",
    "    \n",
    "    "
   ]
  },
  {
   "cell_type": "code",
   "execution_count": 53,
   "metadata": {},
   "outputs": [],
   "source": [
    "def edg(img):\n",
    "    \n",
    "    first_img = img.copy()\n",
    "    second_img = img.copy()\n",
    "    \n",
    "    \n",
    "    edgesT=[]\n",
    "    for line in img.T:\n",
    "        first=len(line)\n",
    "        last=0\n",
    "        for i in range(len(line)): #found real first black pixel in a line\n",
    "            if line[i]==255:\n",
    "                first = i\n",
    "                break\n",
    "        for i in range(len(line)): #found real last black pixel in a line\n",
    "            if line[len(line)-i-1]==255:\n",
    "                last = len(line)-i-1\n",
    "                break\n",
    "\n",
    "        edgesT.append([first,last])\n",
    "    \n",
    "    for i in range(len(edgesT)):\n",
    "        if edgesT[i][0]<edgesT[i][1]: #i is number of a line, 0 and 1 equals first and last, and in this line of code we check if f<l\n",
    "            for j in range(edgesT[i][0],edgesT[i][1]): #and now btw first and last in line paint it black!\n",
    "                first_img.T[i][j]=255\n",
    "\n",
    "    print('fisrt')\n",
    "    draw_img(first_img)\n",
    "\n",
    "    \n",
    "    edges=[]\n",
    "    for line in img:\n",
    "        first=len(line)\n",
    "        last=0\n",
    "        for i in range(len(line)): #found real first black pixel in a line\n",
    "            if line[i]==255:\n",
    "                first = i\n",
    "                break\n",
    "        for i in range(len(line)): #found real last black pixel in a line\n",
    "            if line[len(line)-i-1]==255:\n",
    "                last = len(line)-i-1\n",
    "                break\n",
    "\n",
    "        edges.append([first,last])\n",
    "    \n",
    "    for i in range(len(edges)):\n",
    "        if edges[i][0]<edges[i][1]: #i is number of a line, 0 and 1 equals first and last, and in this line of code we check if f<l\n",
    "            for j in range(edges[i][0],edges[i][1]): #and now btw first and last in line paint it black!\n",
    "                second_img[i][j]=255\n",
    "\n",
    "    print('second')\n",
    "    draw_img(second_img)\n",
    "    \n",
    "    \n",
    "    img_bwa = cv2.bitwise_and(first_img,second_img)\n",
    "    print('bwa')\n",
    "    draw_img(img_bwa)\n",
    "    \n",
    "    img_bwo = cv2.bitwise_or(first_img,second_img)\n",
    "    print('bwo')\n",
    "    draw_img(img_bwo)\n",
    "    "
   ]
  },
  {
   "cell_type": "code",
   "execution_count": null,
   "metadata": {
    "scrolled": true
   },
   "outputs": [],
   "source": [
    "for obj in full_pathes:\n",
    "    print(obj)\n",
    "    frame = cv2.imread(obj,cv2.IMREAD_COLOR)\n",
    "    \n",
    "    print(frame.shape)\n",
    "    converted = convert(frame,1) #see the function for more modes, now it's toHSV\n",
    "    draw_img(converted)\n",
    "    \n",
    "    lower, upper = get_cntr_eps(converted, 7)\n",
    "    \n",
    "    skinMask = cv2.inRange(converted, lower, upper) \n",
    "    print('Binnarized: /n')\n",
    "    draw_img(skinMask)\n",
    "    print(' ')\n",
    "    print('Edges: /n')\n",
    "    edg(skinMask)\n",
    "    "
   ]
  },
  {
   "cell_type": "code",
   "execution_count": null,
   "metadata": {},
   "outputs": [],
   "source": []
  },
  {
   "cell_type": "markdown",
   "metadata": {},
   "source": [
    "### Trying morphological huinew"
   ]
  },
  {
   "cell_type": "raw",
   "metadata": {},
   "source": [
    "+ Gaussian blur \n",
    "+Двустороннее размытие\n",
    "расширение\n",
    "сужение\n",
    "(там еще собственное ядро можно задать)\n",
    "морфологическое открытие\n",
    "морфологическое закрытие\n",
    "морфологические градиент\n",
    "top hat - изоляция ярких мест\n",
    "black hat - изоляция темных мест\n",
    "крч. https://docs.opencv.org/3.0-beta/doc/py_tutorials/py_imgproc/py_morphological_ops/py_morphological_ops.html\n",
    "\n",
    "заливка серым и белым"
   ]
  },
  {
   "cell_type": "code",
   "execution_count": null,
   "metadata": {},
   "outputs": [],
   "source": [
    "for obj in full_pathes:\n",
    "    print(obj)\n",
    "    frame = cv2.imread(obj,cv2.IMREAD_COLOR)\n",
    "    \n",
    "    img_for_gb = frame.copy()\n",
    "    gb_img = cv2.GaussianBlur(img_for_gb, (5, 5), 0)\n",
    "    #print('gb_img')\n",
    "    #draw_img(gb_img)\n",
    "    \n",
    "    img_for_bb = frame.copy()\n",
    "    bb_img = cv2.bilateralFilter(img_for_bb, 9,75,75)\n",
    "    #print('bb_img')\n",
    "    #draw_img(bb_img)\n",
    "    \n",
    "    kernel = np.ones((5, 5))\n",
    "    \n",
    "    img_for_erode = frame.copy()\n",
    "    eroded_img = cv2.erode(img_for_erode, kernel, iterations = 1)\n",
    "    print('eroded_img')\n",
    "    draw_img(eroded_img)\n",
    "    \n",
    "    img_for_dilate = frame.copy()\n",
    "    dilated_img =cv2.dilate(img_for_dilate,kernel, 1)\n",
    "    print('dilated_img')\n",
    "    draw_img(dilated_img)\n",
    "    \n",
    "    img_for_open = frame.copy()\n",
    "    opened_img = cv2.morphologyEx(img_for_open, cv2.MORPH_OPEN, kernel)\n",
    "    print('opened_img')\n",
    "    draw_img(opened_img)\n",
    "    \n",
    "    img_for_close = frame.copy()\n",
    "    closed_img = cv2.morphologyEx(img_for_close, cv2.MORPH_CLOSE, kernel)\n",
    "    print('closed_img')\n",
    "    draw_img(closed_img)\n",
    "    \n",
    "    img_for_grad = frame.copy()\n",
    "    gradiented_img = cv2.morphologyEx(img_for_grad, cv2.MORPH_GRADIENT, kernel)\n",
    "    print('gradiented_img')\n",
    "    draw_img(gradiented_img)\n",
    "    \n",
    "    img_for_topHat = frame.copy()\n",
    "    topHated_img = cv2.morphologyEx(img_for_topHat, cv2.MORPH_TOPHAT, kernel)\n",
    "    print('topHated_img')\n",
    "    draw_img(topHated_img)\n",
    "        \n",
    "    img_for_blackHat = frame.copy()\n",
    "    blackHated_img = cv2.morphologyEx(img_for_blackHat, cv2.MORPH_BLACKHAT, kernel)\n",
    "    print('blackHated_img')\n",
    "    draw_img(blackHated_img)\n",
    "    \n",
    "    converted_orig = convert(frame,1) #see the function for more modes, now it's toHSV\n",
    "    converted_gb = convert(gb_img, 1)\n",
    "    converted_bb = convert(bb_img, 1)\n",
    "    converted_eroded = convert(eroded_img, 1)\n",
    "    converted_dilated = convert(dilated_img, 1)\n",
    "    converted_opened = convert(opened_img, 1)\n",
    "    converted_closed = convert(closed_img, 1)\n",
    "    converted_grad = convert(gradiented_img, 1)\n",
    "    converted_top =convert(topHated_img, 1)\n",
    "    converted_black = convert(blackHated, 1)\n",
    "    #print('converted_orig')\n",
    "    #draw_img(converted_orig)\n",
    "    #print('converted_gb')\n",
    "    #draw_img(converted_gb)\n",
    "    \n",
    "    lower_orig, upper_orig = get_cntr_eps(converted_orig, 7)\n",
    "    lower_gb, upper_gb = get_cntr_eps(converted_gb, 7)\n",
    "    lower_bb, upper_bb = get_cntr_eps(converted_bb, 7)\n",
    "    lower_er, upper_er = get_cntr_eps(converted_eroded, 7)\n",
    "    lower_dil, upper_dil = get_cntr_eps(converted_dilated, 7)\n",
    "    lower_opened, upper_opened = get_cntr_eps(converted_opened, 7)\n",
    "    lower_closed, upper_closed = get_cntr_eps(converted_closed, 7)\n",
    "    lower_grad, upper_grad = get_cntr_eps(converted_grad, 7)\n",
    "    lower_top, upper_top = get_cntr_eps(converted_top, 7)\n",
    "    lower_black, upper_black = get_cntr_eps(converted_black, 7)\n",
    "    \n",
    "    skinMask_orig = cv2.inRange(converted_orig, lower_orig, upper_orig)\n",
    "    skinMask_gb = cv2.inRange(converted_gb, lower_gb, upper_gb)\n",
    "    skinMask_bb = cv2.inRange(converted_bb, lower_bb, upper_bb)\n",
    "    skinMask_eroded = cv2.inRange(converted_eroded, lower_er,upper_er)\n",
    "    skinMask_dilated= cv2.inRange(converted_dilated, lower_dil, upper_dil)\n",
    "    skinMask_opened = cv2.inRange(converted_opened, lower_opened, upper_opened)\n",
    "    skinMask_closed = cv2.inRange(converted_closed, lower_closed, upper_closed)\n",
    "    skinMask_grad = cv2.inRange(converted_grad, lower_grad, upper_grad)\n",
    "    skinMask_top = cv2.inRange(converted_top, lower_top, upper_top)\n",
    "    skinMask_black = cv2.inRange(converted_black, lower_black, upper_black)\n",
    "    \n",
    "    \n",
    "    print('Binnarized: /n')\n",
    "    print(' /n')\n",
    "    print('SkinMask orig')\n",
    "    draw_img(skinMask_orig)\n",
    "    print('SkinMask gb')\n",
    "    draw_img(skinMask_gb)\n",
    "    print('skinMask_bb')\n",
    "    draw_img(skinMask_bb)\n",
    "    print('skinMask_eroded')\n",
    "    draw_img(skinMask_eroded)\n",
    "    print('skinMask_dilated')\n",
    "    draw_img(skinMask_dilated)\n",
    "    print('skinMask_opened')\n",
    "    draw_img(skinMask_opened)\n",
    "    print('skinMask_closed')\n",
    "    draw_img(skinMask_closed)\n",
    "    print('skinMask_grad')\n",
    "    draw_img(skinMask_grad)\n",
    "    \n",
    "    \n",
    "    \n",
    "    \n",
    "    \n",
    "    "
   ]
  },
  {
   "cell_type": "code",
   "execution_count": null,
   "metadata": {},
   "outputs": [],
   "source": [
    "\n"
   ]
  },
  {
   "cell_type": "code",
   "execution_count": null,
   "metadata": {},
   "outputs": [],
   "source": []
  },
  {
   "cell_type": "code",
   "execution_count": null,
   "metadata": {},
   "outputs": [],
   "source": []
  },
  {
   "cell_type": "code",
   "execution_count": null,
   "metadata": {},
   "outputs": [],
   "source": []
  },
  {
   "cell_type": "markdown",
   "metadata": {},
   "source": [
    "#### Всякая контурная хуйня"
   ]
  },
  {
   "cell_type": "code",
   "execution_count": 223,
   "metadata": {},
   "outputs": [],
   "source": [
    "# [cv2.moments(contours[i]) for i in range(0, len(contours))]"
   ]
  },
  {
   "cell_type": "code",
   "execution_count": 224,
   "metadata": {},
   "outputs": [
    {
     "data": {
      "text/plain": [
       "21.5"
      ]
     },
     "execution_count": 224,
     "metadata": {},
     "output_type": "execute_result"
    }
   ],
   "source": [
    "area = cv2.contourArea(cnt)\n",
    "area"
   ]
  },
  {
   "cell_type": "code",
   "execution_count": 225,
   "metadata": {},
   "outputs": [
    {
     "data": {
      "text/plain": [
       "24.3847758769989"
      ]
     },
     "execution_count": 225,
     "metadata": {},
     "output_type": "execute_result"
    }
   ],
   "source": [
    "perimeter = cv2.arcLength(cnt,True)\n",
    "perimeter"
   ]
  },
  {
   "cell_type": "code",
   "execution_count": null,
   "metadata": {},
   "outputs": [],
   "source": []
  },
  {
   "cell_type": "markdown",
   "metadata": {},
   "source": [
    "Bounding rectangles, circle, ellipse and line"
   ]
  },
  {
   "cell_type": "code",
   "execution_count": 242,
   "metadata": {},
   "outputs": [],
   "source": [
    "x,y,w,h = cv2.boundingRect(cnt)\n",
    "img = cv2.rectangle(img,(x,y),(x+w,y+h),(0,255,0),2)"
   ]
  },
  {
   "cell_type": "code",
   "execution_count": 244,
   "metadata": {},
   "outputs": [],
   "source": [
    "rect = cv2.minAreaRect(cnt)\n",
    "box = cv2.boxPoints(rect)\n",
    "box = np.int0(box)\n",
    "image = cv2.drawContours(image,[box],0,(0,0,255),2)"
   ]
  },
  {
   "cell_type": "code",
   "execution_count": 245,
   "metadata": {},
   "outputs": [],
   "source": [
    "(x,y),radius = cv2.minEnclosingCircle(cnt)\n",
    "center = (int(x),int(y))\n",
    "radius = int(radius)\n",
    "img = cv2.circle(img,center,radius,(0,255,0),2)"
   ]
  },
  {
   "cell_type": "code",
   "execution_count": 247,
   "metadata": {},
   "outputs": [],
   "source": [
    "ellipse = cv2.fitEllipse(cnt)\n",
    "image = cv2.ellipse(image\n",
    "                    ,ellipse,(0,255,0),2)"
   ]
  },
  {
   "cell_type": "code",
   "execution_count": 248,
   "metadata": {},
   "outputs": [],
   "source": [
    "rows,cols = img.shape[:2]\n",
    "[vx,vy,x,y] = cv2.fitLine(cnt, cv2.DIST_L2,0,0.01,0.01)\n",
    "lefty = int((-x*vy/vx) + y)\n",
    "righty = int(((cols-x)*vy/vx)+y)\n",
    "img = cv2.line(img,(cols-1,righty),(0,lefty),(0,255,0),2)"
   ]
  },
  {
   "cell_type": "code",
   "execution_count": null,
   "metadata": {},
   "outputs": [],
   "source": []
  },
  {
   "cell_type": "code",
   "execution_count": null,
   "metadata": {},
   "outputs": [],
   "source": []
  },
  {
   "cell_type": "code",
   "execution_count": null,
   "metadata": {},
   "outputs": [],
   "source": []
  },
  {
   "cell_type": "code",
   "execution_count": null,
   "metadata": {},
   "outputs": [],
   "source": []
  },
  {
   "cell_type": "code",
   "execution_count": null,
   "metadata": {},
   "outputs": [],
   "source": []
  },
  {
   "cell_type": "code",
   "execution_count": null,
   "metadata": {},
   "outputs": [],
   "source": []
  },
  {
   "cell_type": "code",
   "execution_count": null,
   "metadata": {},
   "outputs": [],
   "source": []
  },
  {
   "cell_type": "code",
   "execution_count": null,
   "metadata": {},
   "outputs": [],
   "source": []
  },
  {
   "cell_type": "markdown",
   "metadata": {},
   "source": [
    "#### Попробовать"
   ]
  },
  {
   "cell_type": "markdown",
   "metadata": {},
   "source": [
    "Gaussian blur\n",
    "\n",
    "Combine x and y Sobel Filters (w/ scaling)\n",
    "\n",
    "Gaussian blur\n",
    "\n",
    "Canny edge detection\n",
    "\n",
    "Finding Hough lines\n",
    "\n",
    "Extrapolating the intersection of the Hough lines to get corners"
   ]
  },
  {
   "cell_type": "code",
   "execution_count": null,
   "metadata": {},
   "outputs": [],
   "source": [
    "for obj in full_pathes:\n",
    "    print(obj)\n",
    "    frame = cv2.imread(obj,cv2.IMREAD_COLOR)\n",
    "    \n",
    "    print(frame.shape)\n",
    "    converted = convert(frame,1)  #see the function for more modes, now it's toHSV\n",
    "    draw_img(converted)\n",
    "    \n",
    "    lower, upper = get_cntr_eps(converted, 7)\n",
    "    \n",
    "    skinMask = cv2.inRange(converted, lower, upper) \n",
    "    print('Binnarized: /n')\n",
    "    draw_img(skinMask)\n",
    "    \n",
    "    skinMask = cv2.GaussianBlur(skinMask, (3, 3), 0)\n",
    "    \n",
    "    Sobel_edges = Sobel_grad(skinMask, 3)\n",
    "    \n",
    "    skinMask = cv2.GaussianBlur(Sobel_edges, (3, 3), 0)\n",
    "    \n",
    "    Canny_edges_orig = cv2.Canny(skinMask,100,200)\n",
    "    \n",
    "    draw_img(Canny_edges_orig)\n",
    "    "
   ]
  },
  {
   "cell_type": "code",
   "execution_count": null,
   "metadata": {},
   "outputs": [],
   "source": []
  },
  {
   "cell_type": "markdown",
   "metadata": {},
   "source": [
    "### Failures"
   ]
  },
  {
   "cell_type": "markdown",
   "metadata": {},
   "source": [
    "мб гауссианский блюр поможет продлить полученные границы, чтоб кенни потом засек чуть больше краев? нет"
   ]
  },
  {
   "cell_type": "code",
   "execution_count": null,
   "metadata": {},
   "outputs": [],
   "source": [
    "for obj in full_pathes:\n",
    "    print(obj)\n",
    "    frame = cv2.imread(obj,cv2.IMREAD_COLOR)\n",
    "    \n",
    "    print(frame.shape)\n",
    "    converted = convert(frame,1)\n",
    "    draw_img(converted)\n",
    "    \n",
    "    lower, upper = get_cntr_eps(converted, 7)\n",
    "\n",
    "    \n",
    "    skinMask = cv2.inRange(converted, lower, upper) \n",
    "    draw_img(skinMask)\n",
    "    \n",
    "    \n",
    "    #kernel = cv2.getStructuringElement(cv2.MORPH_ELLIPSE, (3, 3))\n",
    "    #skinMask = cv2.erode(skinMask, kernel, iterations = 1) #пытаемся удалить ложно положительную кожу\n",
    "    #skinMask = cv2.dilate(skinMask, kernel, iterations = 1)\n",
    "    skinMask = cv2.GaussianBlur(skinMask, (3, 3), 0) #пытаемся избавиться от шумов\n",
    "    \n",
    "    draw_img(skinMask)\n",
    "    \n",
    "    #cv2.imwrite(obj+'skin.jpg',skinMask)\n",
    "    \n",
    "    edges = cv2.Canny(skinMask,100,200)\n",
    "    draw_img(edges)"
   ]
  },
  {
   "cell_type": "markdown",
   "metadata": {},
   "source": [
    "мб чуть-чуть медианизируем картинку, прежде чем бинаризовать ее? уменьшим количество цветов, подтянем странные оттенки по кластерам? мб тогда что-то странное подтянется к тому, что нормально бинаризуется и не исследнет бесчезно?\n",
    "(нет) хотя! мб попробовать совсем уж ручками кастомный алгоритм написать? но это если совсем ничего не останется\n",
    "проба показывает, что вообще ничего "
   ]
  },
  {
   "cell_type": "code",
   "execution_count": null,
   "metadata": {},
   "outputs": [],
   "source": [
    "for obj in full_pathes:\n",
    "    print(obj)\n",
    "    frame = cv2.imread(obj,cv2.IMREAD_COLOR)\n",
    "    \n",
    "    print(frame.shape)\n",
    "    converted = convert(frame,1)\n",
    "    draw_img(converted)\n",
    "    \n",
    "    lower, upper = get_cntr_eps(converted, 7)\n",
    "\n",
    "    median = cv2.medianBlur(converted,5)\n",
    "    draw_img(median)\n",
    "    \n",
    "    skinMask = cv2.inRange(median, lower, upper) \n",
    "    draw_img(skinMask)\n",
    "    \n",
    "    \n",
    "    #kernel = cv2.getStructuringElement(cv2.MORPH_ELLIPSE, (3, 3))\n",
    "    #skinMask = cv2.erode(skinMask, kernel, iterations = 1) #пытаемся удалить ложно положительную кожу\n",
    "    #skinMask = cv2.dilate(skinMask, kernel, iterations = 1)\n",
    "    #skinMask = cv2.GaussianBlur(skinMask, (3, 3), 0) #пытаемся избавиться от шумов\n",
    "    \n",
    "    #draw_img(skinMask)\n",
    "    \n",
    "    #cv2.imwrite(obj+'skin.jpg',skinMask)\n",
    "    \n",
    "    edges = cv2.Canny(skinMask,100,200)\n",
    "    draw_img(edges)"
   ]
  },
  {
   "cell_type": "markdown",
   "metadata": {},
   "source": [
    "Че в Кенни не подкручивай - ничего не изменится.\n",
    "Проверка перебором вот, можно параметры новые повставлять, поперебирать - но ничего не изменится\n",
    "\n",
    "    Canny_edges_orig = cv2.Canny(skinMask,100,200) #original\n",
    "    draw_img(Canny_edges_orig)\n",
    "    Canny_edges_try = cv2.Canny(skinMask, 0, 0)\n",
    "    draw_img(Canny_edges_try)\n",
    "    \n",
    "    calc_difference(Canny_edges_orig, Canny_edges_try)\n",
    "   \n",
    "\n",
    "\n",
    "\n",
    "Canny parameters\n",
    "\n",
    "threshold1\tfirst threshold for the hysteresis procedure.\n",
    "\n",
    "threshold2\tsecond threshold for the hysteresis procedure.\n",
    "\n",
    "apertureSize\taperture size for the Sobel operator. ------- не влияет на результат при 100, 200\n",
    "\n",
    "L2gradient\ta flag, indicating whether a more accurate L2 norm =(dI/dx)2+(dI/dy)2−−−−−−−−−−−−−−−−√ should be used to calculate the image gradient magnitude ( L2gradient=true ), or whether the default L1 norm =|dI/dx|+|dI/dy| is enough ( L2gradient=false )."
   ]
  },
  {
   "cell_type": "markdown",
   "metadata": {},
   "source": [
    "    Canny_edges_orig = cv2.Canny(skinMask,100,200) #original\n",
    "    draw_img(Canny_edges_orig)\n",
    "    \n",
    "    Canny_edges_try = cv2.Canny(skinMask,100,200, L2gradient=True) \n",
    "    draw_img(Canny_edges_try)\n",
    "    \n",
    "    calc_difference(Canny_edges_orig, Canny_edges_try)\n",
    "    \n",
    "Есть какая-то разница, но я ее качественно не вижу глазами"
   ]
  },
  {
   "cell_type": "markdown",
   "metadata": {},
   "source": [
    "Из-за гэпов в Кенни предлагают либо увеличивать ядро (не помогает), либо использовать findContours (хммммм)))) )"
   ]
  },
  {
   "cell_type": "markdown",
   "metadata": {},
   "source": [
    "Вообще по теме есть какие-то линии Хофа еще, но тут какая-то херня\n",
    "\n",
    "Они, по ходу, горизонтальные и вертикальные, у нас такие не ищутся\n",
    "\n",
    "Ну и пока res NoneType не работает отрисовка, и почему-то условие на NoneType плохо проверяется - с != все равно заходит в if, с == не заходит, в не зависимости от того, что выводит принт тайпа рез"
   ]
  },
  {
   "cell_type": "code",
   "execution_count": 167,
   "metadata": {},
   "outputs": [
    {
     "name": "stdout",
     "output_type": "stream",
     "text": [
      "<class 'NoneType'>\n",
      "No Hough Lines at all\n"
     ]
    },
    {
     "data": {
      "text/plain": [
       "'for x in range(0, len(res)):\\n    for x1,y1,x2,y2 in res[x]:\\n        cv2.res(img,(x1,y1),(x2,y2),(0,255,0),2)'"
      ]
     },
     "execution_count": 167,
     "metadata": {},
     "output_type": "execute_result"
    }
   ],
   "source": [
    "#менять только последние три\n",
    "res = cv2.HoughLinesP(edges, rho = 1, theta = math.pi / 180, threshold = 70, minLineLength = 100, maxLineGap = 10)\n",
    "#res = edges\n",
    "print(type(res))\n",
    "if (type(res) == 'NoneType'):\n",
    "    draw_img(res)\n",
    "    print('Hough Lines /n')\n",
    "else:\n",
    "    print('No Hough Lines at all')\n",
    "    \n",
    "'''for x in range(0, len(res)):\n",
    "    for x1,y1,x2,y2 in res[x]:\n",
    "        cv2.res(img,(x1,y1),(x2,y2),(0,255,0),2)'''"
   ]
  },
  {
   "cell_type": "code",
   "execution_count": null,
   "metadata": {},
   "outputs": [],
   "source": []
  },
  {
   "cell_type": "markdown",
   "metadata": {},
   "source": [
    "## Побочные Задачи"
   ]
  },
  {
   "cell_type": "markdown",
   "metadata": {},
   "source": [
    "   Надо убрать голову (фейс детектор - вырезаем это место ин ренджем или кем)\n",
    "   Надо почистить от шумов фон (точно не вот той вот херней)\n",
    "   и когда оно стену детектит сильно"
   ]
  },
  {
   "cell_type": "code",
   "execution_count": 7,
   "metadata": {},
   "outputs": [
    {
     "data": {
      "text/plain": [
       "'C:\\\\ProgramData\\\\Anaconda3\\\\lib\\\\site-packages\\\\cv2.cp37-win_amd64.pyd'"
      ]
     },
     "execution_count": 7,
     "metadata": {},
     "output_type": "execute_result"
    }
   ],
   "source": [
    "cv2.__file__"
   ]
  },
  {
   "cell_type": "markdown",
   "metadata": {},
   "source": [
    "haarcascade_frontalface_alt.xml\n",
    "\n",
    "haarcascade_frontalface_default.xml"
   ]
  },
  {
   "cell_type": "code",
   "execution_count": 105,
   "metadata": {},
   "outputs": [],
   "source": [
    "face_cascade = cv2.CascadeClassifier('C:/ProgramData/Anaconda3/Lib/site-packages/haarcascade_frontalface_default.xml')"
   ]
  },
  {
   "cell_type": "code",
   "execution_count": 119,
   "metadata": {},
   "outputs": [],
   "source": [
    "img = cv2.imread('C:/Users/karin.sadovs/Desktop/face_PNG5669.jpg')\n",
    "#img = cv2.imread('C:/Users/karin.sadovs/Desktop/HAND/objects/2018_12_25_21_29_22.jpg')"
   ]
  },
  {
   "cell_type": "code",
   "execution_count": 107,
   "metadata": {},
   "outputs": [
    {
     "data": {
      "image/png": "[encoded data removed]",
      "text/plain": [
       "<Figure size 432x288 with 1 Axes>"
      ]
     },
     "metadata": {},
     "output_type": "display_data"
    }
   ],
   "source": [
    "plt.imshow(img, cmap = 'gray')\n",
    "plt.xticks([]), plt.yticks([])  # to hide tick values on X and Y axis\n",
    "plt.show()"
   ]
  },
  {
   "cell_type": "code",
   "execution_count": 108,
   "metadata": {},
   "outputs": [],
   "source": [
    "gray = cv2.cvtColor(img, cv2.COLOR_BGR2GRAY)"
   ]
  },
  {
   "cell_type": "code",
   "execution_count": 109,
   "metadata": {},
   "outputs": [],
   "source": [
    "faces = face_cascade.detectMultiScale(gray, 1.3, 5)"
   ]
  },
  {
   "cell_type": "code",
   "execution_count": 110,
   "metadata": {},
   "outputs": [
    {
     "data": {
      "text/plain": [
       "array([[ 116,  515, 1349, 1349]], dtype=int32)"
      ]
     },
     "execution_count": 110,
     "metadata": {},
     "output_type": "execute_result"
    }
   ],
   "source": [
    "faces"
   ]
  },
  {
   "cell_type": "code",
   "execution_count": 111,
   "metadata": {},
   "outputs": [],
   "source": [
    " eye_cascade = cv2.CascadeClassifier('C:/ProgramData/Anaconda3/Lib/site-packages/haarcascade_eye.xml')"
   ]
  },
  {
   "cell_type": "code",
   "execution_count": 112,
   "metadata": {},
   "outputs": [
    {
     "data": {
      "image/png": "[encoded data removed]",
      "text/plain": [
       "<Figure size 432x288 with 1 Axes>"
      ]
     },
     "metadata": {},
     "output_type": "display_data"
    }
   ],
   "source": [
    "for (x,y,w,h) in faces:\n",
    "    cv2.rectangle(img,(x,y),(x+w,y+h),(255,0,0),2)\n",
    "    roi_gray = gray[y:y+h, x:x+w]\n",
    "    roi_color = img[y:y+h, x:x+w]\n",
    "    eyes = eye_cascade.detectMultiScale(roi_gray)\n",
    "    for (ex,ey,ew,eh) in eyes:\n",
    "        cv2.rectangle(roi_color,(ex,ey),(ex+ew,ey+eh),(0,255,0),2)\n",
    "    plt.imshow(img, cmap = 'gray')\n",
    "    plt.xticks([]), plt.yticks([])  # to hide tick values on X and Y axis\n",
    "    plt.show()"
   ]
  },
  {
   "cell_type": "code",
   "execution_count": 116,
   "metadata": {},
   "outputs": [],
   "source": [
    "img[116:1349,515:1349,:]=255"
   ]
  },
  {
   "cell_type": "code",
   "execution_count": 120,
   "metadata": {},
   "outputs": [],
   "source": [
    "img[515:1349,116:1349,:]=255"
   ]
  },
  {
   "cell_type": "code",
   "execution_count": 122,
   "metadata": {},
   "outputs": [
    {
     "data": {
      "text/plain": [
       "array([[ 116,  515, 1349, 1349]], dtype=int32)"
      ]
     },
     "execution_count": 122,
     "metadata": {},
     "output_type": "execute_result"
    }
   ],
   "source": [
    "faces"
   ]
  },
  {
   "cell_type": "code",
   "execution_count": 123,
   "metadata": {},
   "outputs": [
    {
     "data": {
      "image/png": "[encoded data removed]",
      "text/plain": [
       "<Figure size 432x288 with 1 Axes>"
      ]
     },
     "metadata": {},
     "output_type": "display_data"
    }
   ],
   "source": [
    "plt.imshow(img, cmap = 'gray')\n",
    "plt.xticks([]), plt.yticks([])  # to hide tick values on X and Y axis\n",
    "plt.show()"
   ]
  },
  {
   "cell_type": "code",
   "execution_count": null,
   "metadata": {},
   "outputs": [],
   "source": []
  }
 ],
 "metadata": {
  "kernelspec": {
   "display_name": "Python 3",
   "language": "python",
   "name": "python3"
  },
  "language_info": {
   "codemirror_mode": {
    "name": "ipython",
    "version": 3
   },
   "file_extension": ".py",
   "mimetype": "text/x-python",
   "name": "python",
   "nbconvert_exporter": "python",
   "pygments_lexer": "ipython3",
   "version": "3.6.7"
  }
 },
 "nbformat": 4,
 "nbformat_minor": 2
}
