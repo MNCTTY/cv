{
 "cells": [
  {
   "cell_type": "code",
   "execution_count": 1,
   "metadata": {},
   "outputs": [],
   "source": [
    "import json\n",
    "import os\n",
    "import numpy as np\n",
    "from scipy.spatial import ConvexHull\n",
    "from UliEngineering.Math.Coordinates import BoundingBox\n",
    "import xml.etree.cElementTree as ET\n",
    "from PIL import Image\n",
    "from glob import glob"
   ]
  },
  {
   "cell_type": "code",
   "execution_count": 7,
   "metadata": {},
   "outputs": [],
   "source": [
    "path_to_images = 'D:/EveryFuckingProgram_home/tf_train/images/' #INSERT HERE A PATH TO YOUR OWN DATASET >>>\n",
    "path_to_annotations = 'D:/EveryFuckingProgram_home/tf_train/annotations/'"
   ]
  },
  {
   "cell_type": "code",
   "execution_count": 3,
   "metadata": {},
   "outputs": [],
   "source": [
    "def get_height_and_width(cur_filename):\n",
    "    im = Image.open(cur_filename)\n",
    "    return im.size"
   ]
  },
  {
   "cell_type": "code",
   "execution_count": 4,
   "metadata": {},
   "outputs": [],
   "source": [
    "def BB_8(data):\n",
    "    pts = []\n",
    "    for i in range(len(data['hand_pts'])):\n",
    "        pts.append(data['hand_pts'][i][0:2])\n",
    "    hull_js = ConvexHull(pts)\n",
    "    hull_points = []\n",
    "    for i in hull_js.vertices:\n",
    "        hull_points.append(hull_js.points[i])\n",
    "    the_hull = []\n",
    "    for i in range(len(hull_points)):\n",
    "        the_hull.append(hull_points[i].tolist())\n",
    "    the_hull_array = np.asarray(the_hull)\n",
    "\n",
    "    cur_bb = BoundingBox(the_hull_array)\n",
    "    eps = 0 #int(cur_bb.area/100)\n",
    "    \n",
    "    return max(int(cur_bb.minx) - eps, 0), max(int(cur_bb.miny) - eps,0), min(int(cur_bb.maxx) + eps, cur_width), min(int(cur_bb.maxy) + eps, cur_height)"
   ]
  },
  {
   "cell_type": "code",
   "execution_count": 6,
   "metadata": {},
   "outputs": [],
   "source": [
    "def create_xml(path_to_annotations, img_file, cur_filename, cur_width, cur_height, xmin, ymin, xmax, ymax):\n",
    "        \n",
    "    annotation = ET.Element('annotation', verified = \"yes\")\n",
    "    folder = ET.SubElement(annotation, \"folder\").text = \"images\"\n",
    "    filename = ET.SubElement(annotation, \"filename\").text = img_file\n",
    "    path= ET.SubElement(annotation, \"path\").text = cur_filename\n",
    "    source = ET.SubElement(annotation, \"source\")\n",
    "\n",
    "    database = ET.SubElement(source, \"database\").text = 'Faradenza_DB'\n",
    "\n",
    "\n",
    "    size = ET.SubElement(annotation, \"size\")\n",
    "\n",
    "    width = ET.SubElement(size, \"width\").text = str(cur_width)\n",
    "    height = ET.SubElement(size, \"height\").text = str(cur_height)\n",
    "    depth = ET.SubElement(size, \"depth\").text = '3'\n",
    "\n",
    "    segmented = ET.SubElement(annotation, \"segmented\").text = '0'\n",
    "    object = ET.SubElement(annotation, \"object\")\n",
    "\n",
    "    name = ET.SubElement(object, \"name\").text = 'hand'\n",
    "    pose = ET.SubElement(object, \"pose\").text = 'Unspecified'\n",
    "    truncated = ET.SubElement(object, \"truncated\").text = '0'\n",
    "    difficult = ET.SubElement(object, \"difficult\").text = '0'\n",
    "    bndbox = ET.SubElement(object, \"bndbox\")\n",
    "\n",
    "    xmin = ET.SubElement(bndbox, \"xmin\").text = str(xmin)\n",
    "    ymin = ET.SubElement(bndbox, \"ymin\").text = str(ymin)\n",
    "    xmax = ET.SubElement(bndbox, \"xmax\").text = str(xmax)\n",
    "    ymax = ET.SubElement(bndbox, \"ymax\").text = str(ymax)\n",
    "\n",
    "\n",
    "    tree = ET.ElementTree(annotation)\n",
    "    tree.write(path_to_annotations+os.path.splitext(img_file)[0] +'.xml')"
   ]
  },
  {
   "cell_type": "markdown",
   "metadata": {},
   "source": []
  },
  {
   "cell_type": "code",
   "execution_count": 8,
   "metadata": {},
   "outputs": [],
   "source": [
    "for cur_json_name in glob(path_to_images+ '/*.json'):\n",
    "    with open(cur_json_name, 'r') as file:\n",
    "        data = json.load(file)\n",
    "        \n",
    "    img_file = os.path.basename(data['img_path'])\n",
    "    cur_filename = os.path.abspath(path_to_images) + img_file\n",
    "    \n",
    "    cur_width, cur_height = get_height_and_width(cur_filename)\n",
    "    \n",
    "    xmin, ymin, xmax, ymax = BB_8(data)\n",
    "    \n",
    "    create_xml(path_to_annotations, img_file, cur_filename, cur_width, cur_height, xmin, ymin, xmax, ymax)"
   ]
  },
  {
   "cell_type": "code",
   "execution_count": null,
   "metadata": {},
   "outputs": [],
   "source": []
  }
 ],
 "metadata": {
  "kernelspec": {
   "display_name": "Python 3",
   "language": "python",
   "name": "python3"
  },
  "language_info": {
   "codemirror_mode": {
    "name": "ipython",
    "version": 3
   },
   "file_extension": ".py",
   "mimetype": "text/x-python",
   "name": "python",
   "nbconvert_exporter": "python",
   "pygments_lexer": "ipython3",
   "version": "3.6.7"
  }
 },
 "nbformat": 4,
 "nbformat_minor": 2
}
